{
 "cells": [
  {
   "cell_type": "code",
   "execution_count": 58,
   "id": "9d726460",
   "metadata": {},
   "outputs": [],
   "source": [
    "import csv\n",
    "import json"
   ]
  },
  {
   "cell_type": "code",
   "execution_count": 59,
   "id": "71b6e85e",
   "metadata": {},
   "outputs": [],
   "source": [
    "csv_file = 'Chile-Datos-2019.csv'\n",
    "json_file = 'Chile-Datos-2019.json'"
   ]
  },
  {
   "cell_type": "code",
   "execution_count": 60,
   "id": "7e0a4f50",
   "metadata": {},
   "outputs": [],
   "source": [
    "# Leer el archivo CSV y almacenar su contenido en una lista de diccionarios\n",
    "with open(csv_file, mode='r') as f:\n",
    "    reader = csv.DictReader(f)\n",
    "    data = [row for row in reader]"
   ]
  },
  {
   "cell_type": "code",
   "execution_count": 61,
   "id": "7cce762b",
   "metadata": {},
   "outputs": [],
   "source": [
    "# Convertir la lista de diccionarios a formato JSON\n",
    "json_data = json.dumps(data, indent=4)"
   ]
  },
  {
   "cell_type": "code",
   "execution_count": 62,
   "id": "351945b8",
   "metadata": {},
   "outputs": [],
   "source": [
    "# Escribir el contenido JSON en un archivo\n",
    "with open(json_file, mode='w') as f:\n",
    "    f.write(json_data)\n",
    "# TRansofrmamos el archivo csv a json ahora lo subimos "
   ]
  },
  {
   "cell_type": "code",
   "execution_count": 63,
   "id": "d4158e34",
   "metadata": {},
   "outputs": [],
   "source": [
    "import requests\n",
    "import json\n",
    "import base64"
   ]
  },
  {
   "cell_type": "code",
   "execution_count": 64,
   "id": "8c623da3",
   "metadata": {},
   "outputs": [],
   "source": [
    "url = 'http://localhost:5984/analisisdatoschile'"
   ]
  },
  {
   "cell_type": "code",
   "execution_count": 17,
   "id": "55c95743",
   "metadata": {},
   "outputs": [],
   "source": []
  },
  {
   "cell_type": "code",
   "execution_count": 65,
   "id": "bd4f8d31",
   "metadata": {},
   "outputs": [],
   "source": [
    "usuario = 'admin'\n",
    "contraseña = '12345'\n",
    "auth = (usuario, contraseña)"
   ]
  },
  {
   "cell_type": "code",
   "execution_count": 66,
   "id": "c0ce9e83",
   "metadata": {},
   "outputs": [],
   "source": [
    "credenciales = base64.b64encode(':'.join(auth).encode('utf-8')).decode('utf-8')"
   ]
  },
  {
   "cell_type": "code",
   "execution_count": 67,
   "id": "004c5612",
   "metadata": {},
   "outputs": [],
   "source": [
    "headers = {\n",
    "    'Authorization': 'Basic ' + credenciales,\n",
    "    'Content-Type': 'application/json'\n",
    "}"
   ]
  },
  {
   "cell_type": "code",
   "execution_count": 68,
   "id": "c851cb36",
   "metadata": {},
   "outputs": [],
   "source": [
    "response = requests.put(url, data=json_file, headers=headers)"
   ]
  },
  {
   "cell_type": "code",
   "execution_count": 69,
   "id": "6c79e94e",
   "metadata": {},
   "outputs": [
    {
     "name": "stdout",
     "output_type": "stream",
     "text": [
      "Ha ocurrido un error al intentar agregar los datos a la base de datos.\n"
     ]
    }
   ],
   "source": [
    "if response.ok:\n",
    "    print('Los datos se han agregado correctamente a la base de datos.')\n",
    "else:\n",
    "    print('Ha ocurrido un error al intentar agregar los datos a la base de datos.')"
   ]
  },
  {
   "cell_type": "code",
   "execution_count": null,
   "id": "c2245853",
   "metadata": {},
   "outputs": [],
   "source": []
  }
 ],
 "metadata": {
  "kernelspec": {
   "display_name": "Python 3 (ipykernel)",
   "language": "python",
   "name": "python3"
  },
  "language_info": {
   "codemirror_mode": {
    "name": "ipython",
    "version": 3
   },
   "file_extension": ".py",
   "mimetype": "text/x-python",
   "name": "python",
   "nbconvert_exporter": "python",
   "pygments_lexer": "ipython3",
   "version": "3.11.1"
  }
 },
 "nbformat": 4,
 "nbformat_minor": 5
}
