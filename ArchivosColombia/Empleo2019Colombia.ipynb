{
 "cells": [
  {
   "cell_type": "code",
   "execution_count": 1,
   "id": "dfd13de4",
   "metadata": {},
   "outputs": [],
   "source": [
    "import pandas as pd\n",
    "base=pd.read_csv(\"Total_Nacional_inscritos_en_la_agencia_p_blica_de_empleo_SENA_19_20.csv\", index_col=\"ID\", encoding='UTF-8')"
   ]
  },
  {
   "cell_type": "code",
   "execution_count": 2,
   "id": "5f2bc8fe",
   "metadata": {
    "scrolled": true
   },
   "outputs": [
    {
     "data": {
      "text/plain": [
       "<bound method DataFrame.info of                                 Nombre de la ocupación      Nivel  \\\n",
       "ID                                                                  \n",
       "1           Miembros del Poder Ejecutivo y Legislativo  Directivo   \n",
       "2      Personal Directivo de la Administración Pública  Directivo   \n",
       "3    Directores y Gerentes Generales de Servicios F...  Directivo   \n",
       "4    Directores y Gerentes Generales de Salud, Educ...  Directivo   \n",
       "5    Directores y Gerentes Generales de Comercio, M...  Directivo   \n",
       "..                                                 ...        ...   \n",
       "562               Ayudantes en la Fabricación Metálica  Elemental   \n",
       "563              Obreros y Ayudantes de Planta Química  Elemental   \n",
       "564  Obreros y Ayudantes en el Procesamiento de la ...  Elemental   \n",
       "565  Obreros y Ayudantes en la Elaboración de Alime...  Elemental   \n",
       "566  Otros Obreros y Ayudantes en Fabricación y Pro...  Elemental   \n",
       "\n",
       "     Número de Inscritos 2019  Número de Inscritos 2020  \\\n",
       "ID                                                        \n",
       "1                         7.0                         3   \n",
       "2                       156.0                        72   \n",
       "3                        12.0                         6   \n",
       "4                        31.0                        20   \n",
       "5                        36.0                        15   \n",
       "..                        ...                       ...   \n",
       "562                     412.0                       318   \n",
       "563                     132.0                       124   \n",
       "564                     564.0                       231   \n",
       "565                    1226.0                      1000   \n",
       "566                    7991.0                      5938   \n",
       "\n",
       "     Participacion (%)  2019  Participacion (%)  2020  \\\n",
       "ID                                                      \n",
       "1                       0.02                     0.02   \n",
       "2                       0.46                     0.36   \n",
       "3                       0.04                     0.03   \n",
       "4                       0.09                     0.10   \n",
       "5                       0.11                     0.08   \n",
       "..                       ...                      ...   \n",
       "562                     0.05                     0.06   \n",
       "563                     0.02                     0.02   \n",
       "564                     0.07                     0.05   \n",
       "565                     0.15                     0.20   \n",
       "566                     0.99                     1.16   \n",
       "\n",
       "     % Variacion    2020  vs  2019  Contribución a la variación  \n",
       "ID                                                               \n",
       "1                            -5.71                        -0.01  \n",
       "2                            -5.38                        -0.25  \n",
       "3                            -5.00                        -0.02  \n",
       "4                            -3.55                        -0.03  \n",
       "5                            -5.83                        -0.06  \n",
       "..                             ...                          ...  \n",
       "562                          -2.28                        -0.01  \n",
       "563                          -0.61                         0.00  \n",
       "564                          -5.90                        -0.04  \n",
       "565                          -1.84                        -0.03  \n",
       "566                          -2.57                        -0.25  \n",
       "\n",
       "[566 rows x 8 columns]>"
      ]
     },
     "execution_count": 2,
     "metadata": {},
     "output_type": "execute_result"
    }
   ],
   "source": [
    "#muestro el numero de columnas que tiene la base datos y sus nombres\n",
    "base.info\n",
    "#muestro el tamanio de la base\n",
    "#base.shape"
   ]
  },
  {
   "cell_type": "code",
   "execution_count": 10,
   "id": "13ea4da7",
   "metadata": {},
   "outputs": [
    {
     "name": "stderr",
     "output_type": "stream",
     "text": [
      "C:\\Users\\gusta\\AppData\\Local\\Temp\\ipykernel_2484\\1445327954.py:2: FutureWarning: The frame.append method is deprecated and will be removed from pandas in a future version. Use pandas.concat instead.\n",
      "  copia1=base.append(base)\n"
     ]
    }
   ],
   "source": [
    "#creo una copia para trabajar con la base\n",
    "copia1=base.append(base)"
   ]
  },
  {
   "cell_type": "code",
   "execution_count": 4,
   "id": "4b39e117",
   "metadata": {},
   "outputs": [
    {
     "data": {
      "text/plain": [
       "(566, 8)"
      ]
     },
     "execution_count": 4,
     "metadata": {},
     "output_type": "execute_result"
    }
   ],
   "source": [
    "#elimino los elementos duplicados\n",
    "copia1.shape\n",
    "copia1=copia1.drop_duplicates()\n",
    "copia1.shape"
   ]
  },
  {
   "cell_type": "code",
   "execution_count": 11,
   "id": "ed2470ae",
   "metadata": {},
   "outputs": [
    {
     "data": {
      "text/plain": [
       "<bound method DataFrame.isnull of                                 Nombre de la ocupación      Nivel  \\\n",
       "ID                                                                  \n",
       "1           Miembros del Poder Ejecutivo y Legislativo  Directivo   \n",
       "2      Personal Directivo de la Administración Pública  Directivo   \n",
       "3    Directores y Gerentes Generales de Servicios F...  Directivo   \n",
       "4    Directores y Gerentes Generales de Salud, Educ...  Directivo   \n",
       "5    Directores y Gerentes Generales de Comercio, M...  Directivo   \n",
       "..                                                 ...        ...   \n",
       "562               Ayudantes en la Fabricación Metálica  Elemental   \n",
       "563              Obreros y Ayudantes de Planta Química  Elemental   \n",
       "564  Obreros y Ayudantes en el Procesamiento de la ...  Elemental   \n",
       "565  Obreros y Ayudantes en la Elaboración de Alime...  Elemental   \n",
       "566  Otros Obreros y Ayudantes en Fabricación y Pro...  Elemental   \n",
       "\n",
       "     Número de Inscritos 2019  Número de Inscritos 2020  \\\n",
       "ID                                                        \n",
       "1                         7.0                         3   \n",
       "2                       156.0                        72   \n",
       "3                        12.0                         6   \n",
       "4                        31.0                        20   \n",
       "5                        36.0                        15   \n",
       "..                        ...                       ...   \n",
       "562                     412.0                       318   \n",
       "563                     132.0                       124   \n",
       "564                     564.0                       231   \n",
       "565                    1226.0                      1000   \n",
       "566                    7991.0                      5938   \n",
       "\n",
       "     Participacion (%)  2019  Participacion (%)  2020  \\\n",
       "ID                                                      \n",
       "1                       0.02                     0.02   \n",
       "2                       0.46                     0.36   \n",
       "3                       0.04                     0.03   \n",
       "4                       0.09                     0.10   \n",
       "5                       0.11                     0.08   \n",
       "..                       ...                      ...   \n",
       "562                     0.05                     0.06   \n",
       "563                     0.02                     0.02   \n",
       "564                     0.07                     0.05   \n",
       "565                     0.15                     0.20   \n",
       "566                     0.99                     1.16   \n",
       "\n",
       "     % Variacion    2020  vs  2019  Contribución a la variación  \n",
       "ID                                                               \n",
       "1                            -5.71                        -0.01  \n",
       "2                            -5.38                        -0.25  \n",
       "3                            -5.00                        -0.02  \n",
       "4                            -3.55                        -0.03  \n",
       "5                            -5.83                        -0.06  \n",
       "..                             ...                          ...  \n",
       "562                          -2.28                        -0.01  \n",
       "563                          -0.61                         0.00  \n",
       "564                          -5.90                        -0.04  \n",
       "565                          -1.84                        -0.03  \n",
       "566                          -2.57                        -0.25  \n",
       "\n",
       "[566 rows x 8 columns]>"
      ]
     },
     "execution_count": 11,
     "metadata": {},
     "output_type": "execute_result"
    }
   ],
   "source": [
    "#manejo de valores vacios\n",
    "#muestro la columna donde existen elementos vacios\n",
    "copia1.isnull"
   ]
  },
  {
   "cell_type": "code",
   "execution_count": 5,
   "id": "a59834d9",
   "metadata": {},
   "outputs": [
    {
     "data": {
      "text/plain": [
       "Nombre de la ocupación            0\n",
       "Nivel                             0\n",
       "Número de Inscritos 2019         21\n",
       "Número de Inscritos 2020          0\n",
       "Participacion (%)  2019          30\n",
       "Participacion (%)  2020          17\n",
       "% Variacion    2020  vs  2019     8\n",
       "Contribución a la variación      30\n",
       "dtype: int64"
      ]
     },
     "execution_count": 5,
     "metadata": {},
     "output_type": "execute_result"
    }
   ],
   "source": [
    "#sumo los valores vacios\n",
    "copia1.isnull().sum()"
   ]
  },
  {
   "cell_type": "code",
   "execution_count": 6,
   "id": "2042943b",
   "metadata": {},
   "outputs": [
    {
     "data": {
      "text/plain": [
       "(527, 8)"
      ]
     },
     "execution_count": 6,
     "metadata": {},
     "output_type": "execute_result"
    }
   ],
   "source": [
    "#Elimino los valores vacios\n",
    "copia1=copia1.dropna()\n",
    "copia1.shape"
   ]
  },
  {
   "cell_type": "code",
   "execution_count": 9,
   "id": "48ce2a8f",
   "metadata": {},
   "outputs": [],
   "source": [
    "copia1.to_csv('archivolimpioUTF.csv', encoding=\"UTF-8\")"
   ]
  },
  {
   "cell_type": "code",
   "execution_count": null,
   "id": "b1f262ef",
   "metadata": {},
   "outputs": [],
   "source": []
  }
 ],
 "metadata": {
  "kernelspec": {
   "display_name": "Python 3 (ipykernel)",
   "language": "python",
   "name": "python3"
  },
  "language_info": {
   "codemirror_mode": {
    "name": "ipython",
    "version": 3
   },
   "file_extension": ".py",
   "mimetype": "text/x-python",
   "name": "python",
   "nbconvert_exporter": "python",
   "pygments_lexer": "ipython3",
   "version": "3.11.1"
  }
 },
 "nbformat": 4,
 "nbformat_minor": 5
}
